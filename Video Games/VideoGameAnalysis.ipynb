{
 "cells": [
  {
   "cell_type": "code",
   "execution_count": 1,
   "id": "0f1dc8e5",
   "metadata": {},
   "outputs": [],
   "source": [
    "import pandas as pd\n",
    "import requests"
   ]
  },
  {
   "cell_type": "code",
   "execution_count": 6,
   "id": "2bcf28d7",
   "metadata": {},
   "outputs": [
    {
     "data": {
      "text/html": [
       "<div>\n",
       "<style scoped>\n",
       "    .dataframe tbody tr th:only-of-type {\n",
       "        vertical-align: middle;\n",
       "    }\n",
       "\n",
       "    .dataframe tbody tr th {\n",
       "        vertical-align: top;\n",
       "    }\n",
       "\n",
       "    .dataframe thead th {\n",
       "        text-align: right;\n",
       "    }\n",
       "</style>\n",
       "<table border=\"1\" class=\"dataframe\">\n",
       "  <thead>\n",
       "    <tr style=\"text-align: right;\">\n",
       "      <th></th>\n",
       "      <th>Month</th>\n",
       "      <th>Day</th>\n",
       "      <th>Title</th>\n",
       "      <th>Platform(s)</th>\n",
       "      <th>Genre(s)</th>\n",
       "      <th>Developer(s)</th>\n",
       "      <th>Publisher(s)</th>\n",
       "    </tr>\n",
       "  </thead>\n",
       "  <tbody>\n",
       "    <tr>\n",
       "      <th>0</th>\n",
       "      <td>JANUARY</td>\n",
       "      <td>3</td>\n",
       "      <td>Freddi Fish 3: The Case of the Stolen Conch Shell</td>\n",
       "      <td>NS</td>\n",
       "      <td>Adventure</td>\n",
       "      <td>Humongous Entertainment</td>\n",
       "      <td>UFO Interactive Games</td>\n",
       "    </tr>\n",
       "    <tr>\n",
       "      <th>1</th>\n",
       "      <td>JANUARY</td>\n",
       "      <td>3</td>\n",
       "      <td>Putt-Putt Travels Through Time</td>\n",
       "      <td>NS</td>\n",
       "      <td>Adventure</td>\n",
       "      <td>Humongous Entertainment</td>\n",
       "      <td>UFO Interactive Games</td>\n",
       "    </tr>\n",
       "    <tr>\n",
       "      <th>2</th>\n",
       "      <td>JANUARY</td>\n",
       "      <td>4</td>\n",
       "      <td>Deep Rock Galactic</td>\n",
       "      <td>PS4, PS5</td>\n",
       "      <td>First-person shooter</td>\n",
       "      <td>Ghost Ship Games</td>\n",
       "      <td>Coffee Stain Publishing</td>\n",
       "    </tr>\n",
       "    <tr>\n",
       "      <th>3</th>\n",
       "      <td>JANUARY</td>\n",
       "      <td>4</td>\n",
       "      <td>The Pedestrian</td>\n",
       "      <td>XBO, XSX</td>\n",
       "      <td>Puzzle, platform</td>\n",
       "      <td>Skookum Arts LLC</td>\n",
       "      <td>Skookum Arts LLC</td>\n",
       "    </tr>\n",
       "    <tr>\n",
       "      <th>4</th>\n",
       "      <td>JANUARY</td>\n",
       "      <td>6</td>\n",
       "      <td>Demon Gaze Extra</td>\n",
       "      <td>NS, PS4</td>\n",
       "      <td>Role-playing</td>\n",
       "      <td>Cattle Call</td>\n",
       "      <td>Clouded Leopard Entertainment</td>\n",
       "    </tr>\n",
       "  </tbody>\n",
       "</table>\n",
       "</div>"
      ],
      "text/plain": [
       "     Month  Day                                              Title  \\\n",
       "0  JANUARY    3  Freddi Fish 3: The Case of the Stolen Conch Shell   \n",
       "1  JANUARY    3                     Putt-Putt Travels Through Time   \n",
       "2  JANUARY    4                                 Deep Rock Galactic   \n",
       "3  JANUARY    4                                     The Pedestrian   \n",
       "4  JANUARY    6                                   Demon Gaze Extra   \n",
       "\n",
       "  Platform(s)              Genre(s)             Developer(s)  \\\n",
       "0          NS             Adventure  Humongous Entertainment   \n",
       "1          NS             Adventure  Humongous Entertainment   \n",
       "2    PS4, PS5  First-person shooter         Ghost Ship Games   \n",
       "3    XBO, XSX      Puzzle, platform         Skookum Arts LLC   \n",
       "4     NS, PS4          Role-playing              Cattle Call   \n",
       "\n",
       "                    Publisher(s)  \n",
       "0          UFO Interactive Games  \n",
       "1          UFO Interactive Games  \n",
       "2        Coffee Stain Publishing  \n",
       "3               Skookum Arts LLC  \n",
       "4  Clouded Leopard Entertainment  "
      ]
     },
     "execution_count": 6,
     "metadata": {},
     "output_type": "execute_result"
    }
   ],
   "source": [
    "vg_dataset = pd.read_csv(\"video-games-2022.csv\")\n",
    "vg_dataset.head()"
   ]
  },
  {
   "cell_type": "code",
   "execution_count": null,
   "id": "9ecb20f2",
   "metadata": {},
   "outputs": [],
   "source": []
  }
 ],
 "metadata": {
  "kernelspec": {
   "display_name": "Python 3 (ipykernel)",
   "language": "python",
   "name": "python3"
  },
  "language_info": {
   "codemirror_mode": {
    "name": "ipython",
    "version": 3
   },
   "file_extension": ".py",
   "mimetype": "text/x-python",
   "name": "python",
   "nbconvert_exporter": "python",
   "pygments_lexer": "ipython3",
   "version": "3.10.6"
  }
 },
 "nbformat": 4,
 "nbformat_minor": 5
}
